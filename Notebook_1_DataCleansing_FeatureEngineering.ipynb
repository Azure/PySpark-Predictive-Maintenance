{
 "cells": [
  {
   "cell_type": "markdown",
   "metadata": {},
   "source": [
    "# Two things need to be configured before starting any Spark application:\n",
    "<br>\n",
    "**1**.  **For standalone Spark, driver is the executor. The default memory for executor is 5g. We need to manually change the executor memory in \"spark-defaults.conf\".**\n",
    "\n",
    "*** How to configure executor memory?***\n",
    "```bash\n",
    "cd /dsvm/tools/spark/current/conf\n",
    "sudo cp spark-defaults.conf.template spark-defaults.conf\n",
    "sudo vi spark-defaults.conf\n",
    "```\n",
    "Uncomment and change option '**spark.driver.memory**' from 5g to Xg (whatever works for your machine)\n"
   ]
  },
  {
   "cell_type": "markdown",
   "metadata": {},
   "source": [
    "**2.**  **If using a machine with many cores (e.g.32), you will usually encounter the error of \"spark job fail with too many open files\". This is because the default soft limit is 1024. It is recommended to increase ulimit to 64K.**\n",
    "\n",
    "*** How to configure ulimit?***\n",
    "```bash\n",
    "sudo vi /etc/security/limits.conf\n",
    "```\n",
    "\n",
    "Add following lines into the configuration file, logout to make the change effective, then login again:\n",
    "```bash\n",
    "*    soft    nofile 65536\n",
    "*    hard    nofile 65536\n",
    "```\n",
    "\n"
   ]
  },
  {
   "cell_type": "markdown",
   "metadata": {
    "collapsed": true
   },
   "source": [
    "# Another thing you might want to do:\n",
    "-  ***Sometimes you might encounter the error of job failed with no space left on device. It is because by default Spark uses /tmp directory to store intermediate data. To solve this problem, add the following line to the spark-defaults.conf***\n",
    "\n",
    "```bash\n",
    "spark.local.dir                     SOME/DIR/WHERE/YOU/HAVE/SPACE\n",
    "```\n"
   ]
  },
  {
   "cell_type": "markdown",
   "metadata": {},
   "source": [
    "# Data Import & Cleansing"
   ]
  },
  {
   "cell_type": "code",
   "execution_count": 1,
   "metadata": {
    "collapsed": true
   },
   "outputs": [],
   "source": [
    "from pyspark import SparkConf\n",
    "from pyspark import SparkContext\n",
    "from pyspark import SQLContext\n",
    "from pyspark.sql.types import *\n",
    "from pyspark.sql.functions import lit\n",
    "import pyspark.sql.functions as F\n",
    "from pyspark.sql.functions import col,udf,lag,date_add,explode\n",
    "from pandas import DataFrame\n",
    "from pyspark.sql.dataframe import *\n",
    "from pyspark.ml.classification import *\n",
    "from pyspark.ml.feature import VectorAssembler\n",
    "from pyspark.sql.window import Window\n",
    "import time\n",
    "from pyspark.sql.functions import col,udf, unix_timestamp\n",
    "from pyspark.sql.types import DateType\n",
    "from datetime import datetime, timedelta\n",
    "from pyspark.ml import Pipeline\n",
    "from pyspark.ml.feature import StringIndexer, OneHotEncoder\n",
    "from pyspark.ml.evaluation import *\n",
    "from pyspark.ml.tuning import CrossValidator\n",
    "from pyspark.ml.tuning import ParamGridBuilder\n",
    "import numpy as np\n",
    "import pandas as pd\n",
    "from pyspark.sql import Row\n",
    "import subprocess\n",
    "import sys\n",
    "import os\n",
    "import re\n",
    "from pyspark.ml import Pipeline, PipelineModel\n",
    "from pyspark.ml.classification import LogisticRegression\n",
    "from pyspark.ml.regression import RandomForestRegressor\n",
    "from pyspark.mllib.evaluation import BinaryClassificationMetrics, RegressionMetrics\n",
    "from pyspark.ml.evaluation import RegressionEvaluator\n",
    "from pyspark.ml.feature import OneHotEncoder, StringIndexer, VectorIndexer, RFormula\n",
    "from pyspark.ml.tuning import CrossValidator, ParamGridBuilder\n",
    "import matplotlib.pyplot as plt\n",
    "import numpy as np\n",
    "import datetime\n",
    "import atexit\n",
    "from sklearn.metrics import roc_curve,auc\n",
    "import seaborn as sns\n",
    "from pyspark.sql.functions import month, weekofyear, dayofmonth\n",
    "from pyspark.sql.functions import concat, col, lit\n",
    "from pyspark.ml.feature import RFormula\n",
    "from pyspark.ml.feature import StandardScaler\n",
    "from pyspark.ml.feature import PCA\n",
    "start_time = time.time()\n"
   ]
  },
  {
   "cell_type": "markdown",
   "metadata": {},
   "source": [
    "## We encountered some issue while reading the data\n",
    "-  For Spark 2.0 and above, we can use the sqlContext.read.csv to import data directly into the Spark context. The data import seems to work fine and you can also perform some data transformation without any problem. However, when we tried to show the top n rows of the entire data (e.g. data.show(3)) or do some data manipulation on certain columns downstream, we encountered error of “Null Pointer” or “NumberFormatException: null”.\n",
    "-  In our case, it was because for some numeric columns with missing records containing \"\", Spark still recognizes those column as numeric but somehow cannot parse them correctly.\n",
    "-  We fixed the problem by reformating the data before loading into Spark context as csv format.\n",
    "```bash\n",
    " cat data.csv | tr -d \"\\\"\\\"\" > sampledata.csv \n",
    "```"
   ]
  },
  {
   "cell_type": "code",
   "execution_count": 2,
   "metadata": {
    "collapsed": false,
    "scrolled": false
   },
   "outputs": [],
   "source": [
    "# Import data from Azure Blob Storage\n",
    "# dataFile = '/home/katlin/Desktop/PysparkExample/sampledata.csv'\n",
    "dataFile = \"wasb://sampledata@pysparksampledata.blob.core.windows.net/sampledata.csv\"\n",
    "# To avoid permission issue, we need to first grant read permission to the the public.\n",
    "dataFileSep = ','\n",
    "df = sqlContext.read.csv(dataFile, header=True, sep=dataFileSep, inferSchema=True, nanValue=\"\", mode='PERMISSIVE')\n"
   ]
  },
  {
   "cell_type": "code",
   "execution_count": 3,
   "metadata": {
    "collapsed": false
   },
   "outputs": [
    {
     "data": {
      "text/plain": [
       "(2085102, 172)"
      ]
     },
     "execution_count": 3,
     "metadata": {},
     "output_type": "execute_result"
    }
   ],
   "source": [
    "# check the dimensions of the data\n",
    "df.count(), len(df.columns)"
   ]
  },
  {
   "cell_type": "code",
   "execution_count": 4,
   "metadata": {
    "collapsed": false
   },
   "outputs": [
    {
     "name": "stdout",
     "output_type": "stream",
     "text": [
      "+--------+--------------------+-------------+-------------+-------------+-------------+--------------+-------------+-------------+--------------+--------------+--------------+-----------+-----------+-----------+-----------+-----------+-----------+-----------+-----------+------------+------------+------------+------------+------------+------------+------------+------------+------------+------------+------------+------------+------------+------------+------------+------------+------------+------------+------------+------------+------------+------------+------------+------------+------------+------------+------------+------------+------------+------------+------------+------------+------------+------------+------------+-----------+-----------+-----------+-----------+-----------+-----------+-----------+-----------+-----------+------------+------------+------------+------------+------------+------------+------------+------------+------------+------------+------------+------------+------------+------------+------------+------------+------------+------------+------------+------------+------------+------------+------------+------------+------------+------------+------------+------------+------------+------------+------------+------------+------------+------------+------------+------------+------------+------------+------------+------------+------------+------------+------------+------------+------------+------------+------------+------------+------------+------------+------------+------------+------------+------------+------------+------------+------------+------------+------------+------------+------------+------------+------------+------------+------------+------------+------------+------------+------------+------------+------------+------------+------------+------------+------------+------------+------------+------------+------------+------------+------------+------------+------------+------------+------------+------------+------------+-------------+-------------+-------------+-------------+-------------+-------------+-------------+-------------+-------------+-------------+-------------+-------------+-------------+-------------+-------------+-------------+-----------------+-----------------+-----------------+-----------------+---------------+\n",
      "|DeviceID|                Date|Categorical_1|Categorical_2|Categorical_3|Categorical_4|Problem_Type_1|Usage_Count_1|Usage_Count_2|Problem_Type_2|Problem_Type_3|Problem_Type_4|Warning_1.2|Warning_1.3|Warning_1.4|Warning_1.5|Warning_1.6|Warning_1.7|Warning_1.8|Warning_1.9|Warning_1.10|Warning_1.11|Warning_1.12|Warning_1.13|Warning_1.14|Warning_1.15|Warning_1.16|Warning_1.17|Warning_1.18|Warning_1.19|Warning_1.20|Warning_1.21|Warning_1.22|Warning_1.23|Warning_1.24|Warning_1.25|Warning_1.26|Warning_1.27|Warning_1.28|Warning_1.29|Warning_1.30|Warning_1.31|Warning_1.32|Warning_1.33|Warning_1.36|Warning_1.37|Warning_1.38|Warning_1.39|Warning_1.40|Warning_1.41|Warning_1.42|Warning_1.43|Warning_1.44|Warning_1.45|Warning_1.46|Warning_2.1|Warning_2.2|Warning_2.3|Warning_2.4|Warning_2.5|Warning_2.6|Warning_2.7|Warning_2.8|Warning_2.9|Warning_2.10|Warning_2.11|Warning_2.12|Warning_2.13|Warning_2.14|Warning_2.15|Warning_2.16|Warning_2.17|Warning_2.18|Warning_2.19|Warning_2.20|Warning_2.21|Warning_2.22|Warning_2.23|Warning_2.24|Warning_2.25|Warning_2.26|Warning_2.27|Warning_2.28|Warning_2.29|Warning_2.30|Warning_2.31|Warning_2.32|Warning_2.33|Warning_2.34|Warning_2.35|Warning_2.36|Warning_2.37|Warning_2.38|Warning_2.39|Warning_2.40|Warning_2.41|Warning_2.42|Warning_2.43|Warning_2.44|Warning_2.45|Warning_2.46|Warning_2.47|Warning_2.48|Warning_2.49|Warning_2.50|Warning_2.51|Warning_2.52|Warning_2.53|Warning_2.54|Warning_2.55|Warning_2.56|Warning_2.57|Warning_2.58|Warning_2.59|Warning_2.60|Warning_2.61|Warning_2.62|Warning_2.63|Warning_2.64|Warning_2.65|Warning_2.66|Warning_2.67|Warning_2.68|Warning_2.69|Warning_2.70|Warning_2.71|Warning_2.72|Warning_2.73|Warning_2.74|Warning_2.75|Warning_2.76|Warning_2.77|Warning_2.78|Warning_2.79|Warning_2.80|Warning_2.81|Warning_2.82|Warning_2.83|Warning_2.84|Warning_2.88|Warning_2.89|Warning_2.90|Warning_2.91|Warning_2.92|Warning_2.93|Warning_2.94|Warning_2.95|Warning_2.96|Warning_2.97|Warning_2.98|Warning_2.99|Warning_2.100|Warning_2.101|Warning_2.102|Warning_2.103|Warning_2.104|Warning_2.105|Warning_2.106|Warning_2.107|Error_Count_1|Error_Count_2|Error_Count_3|Error_Count_4|Error_Count_5|Error_Count_6|Error_Count_7|Error_Count_8|Fault_Code_Type_1|Fault_Code_Type_2|Fault_Code_Type_3|Fault_Code_Type_4|ProblemReported|\n",
      "+--------+--------------------+-------------+-------------+-------------+-------------+--------------+-------------+-------------+--------------+--------------+--------------+-----------+-----------+-----------+-----------+-----------+-----------+-----------+-----------+------------+------------+------------+------------+------------+------------+------------+------------+------------+------------+------------+------------+------------+------------+------------+------------+------------+------------+------------+------------+------------+------------+------------+------------+------------+------------+------------+------------+------------+------------+------------+------------+------------+------------+------------+-----------+-----------+-----------+-----------+-----------+-----------+-----------+-----------+-----------+------------+------------+------------+------------+------------+------------+------------+------------+------------+------------+------------+------------+------------+------------+------------+------------+------------+------------+------------+------------+------------+------------+------------+------------+------------+------------+------------+------------+------------+------------+------------+------------+------------+------------+------------+------------+------------+------------+------------+------------+------------+------------+------------+------------+------------+------------+------------+------------+------------+------------+------------+------------+------------+------------+------------+------------+------------+------------+------------+------------+------------+------------+------------+------------+------------+------------+------------+------------+------------+------------+------------+------------+------------+------------+------------+------------+------------+------------+------------+------------+------------+------------+------------+------------+------------+------------+------------+-------------+-------------+-------------+-------------+-------------+-------------+-------------+-------------+-------------+-------------+-------------+-------------+-------------+-------------+-------------+-------------+-----------------+-----------------+-----------------+-----------------+---------------+\n",
      "|   N0001|2012-12-08 00:00:...|            8|         1500|          100|         7106|             0|            0|            0|             0|             0|             0|        -10|        -10|        -10|        -10|        -10|        -10|        -10|        -10|         -10|         -10|         -10|         -10|         -10|         -10|         -10|         -10|         -10|         -10|         -10|         -10|         -10|         -10|         -10|         -10|         -10|         -10|         -10|         -10|         -10|         -10|         -10|         -10|         -10|         -10|         -10|         -10|         -10|         -10|         -10|         -10|         -10|         -10|         -10|        -10|        -10|        -10|        -10|        -10|        -10|        -10|        -10|        -10|         -10|         -10|         -10|         -10|         -10|         -10|         -10|         -10|         -10|         -10|         -10|         -10|         -10|         -10|         -10|         -10|         -10|         -10|         -10|         -10|         -10|         -10|         -10|         -10|         -10|         -10|         -10|         -10|         -10|         -10|         -10|         -10|         -10|         -10|         -10|         -10|         -10|         -10|         -10|         -10|         -10|         -10|         -10|         -10|         -10|         -10|         -10|         -10|         -10|         -10|         -10|         -10|         -10|         -10|         -10|         -10|         -10|         -10|         -10|         -10|         -10|         -10|         -10|         -10|         -10|         -10|         -10|         -10|         -10|         -10|         -10|         -10|         -10|         -10|         -10|         -10|         -10|         -10|         -10|         -10|         -10|         -10|         -10|         -10|         -10|         -10|         -10|          -10|          -10|          -10|          -10|          -10|          -10|          -10|          -10|            0|            0|            0|            0|            0|            0|            0|            0|             null|             null|             null|             null|              0|\n",
      "+--------+--------------------+-------------+-------------+-------------+-------------+--------------+-------------+-------------+--------------+--------------+--------------+-----------+-----------+-----------+-----------+-----------+-----------+-----------+-----------+------------+------------+------------+------------+------------+------------+------------+------------+------------+------------+------------+------------+------------+------------+------------+------------+------------+------------+------------+------------+------------+------------+------------+------------+------------+------------+------------+------------+------------+------------+------------+------------+------------+------------+------------+-----------+-----------+-----------+-----------+-----------+-----------+-----------+-----------+-----------+------------+------------+------------+------------+------------+------------+------------+------------+------------+------------+------------+------------+------------+------------+------------+------------+------------+------------+------------+------------+------------+------------+------------+------------+------------+------------+------------+------------+------------+------------+------------+------------+------------+------------+------------+------------+------------+------------+------------+------------+------------+------------+------------+------------+------------+------------+------------+------------+------------+------------+------------+------------+------------+------------+------------+------------+------------+------------+------------+------------+------------+------------+------------+------------+------------+------------+------------+------------+------------+------------+------------+------------+------------+------------+------------+------------+------------+------------+------------+------------+------------+------------+------------+------------+------------+------------+------------+-------------+-------------+-------------+-------------+-------------+-------------+-------------+-------------+-------------+-------------+-------------+-------------+-------------+-------------+-------------+-------------+-----------------+-----------------+-----------------+-----------------+---------------+\n",
      "only showing top 1 row\n",
      "\n"
     ]
    }
   ],
   "source": [
    "# check whether the issue of df.show() is fixed\n",
    "df.show(1)"
   ]
  },
  {
   "cell_type": "code",
   "execution_count": 5,
   "metadata": {
    "collapsed": false,
    "scrolled": true
   },
   "outputs": [
    {
     "data": {
      "text/plain": [
       "[('DeviceID', 'string'),\n",
       " ('Date', 'timestamp'),\n",
       " ('Categorical_1', 'int'),\n",
       " ('Categorical_2', 'int'),\n",
       " ('Categorical_3', 'int'),\n",
       " ('Categorical_4', 'int'),\n",
       " ('Problem_Type_1', 'int'),\n",
       " ('Usage_Count_1', 'int'),\n",
       " ('Usage_Count_2', 'int'),\n",
       " ('Problem_Type_2', 'int'),\n",
       " ('Problem_Type_3', 'int'),\n",
       " ('Problem_Type_4', 'int'),\n",
       " ('Warning_1.2', 'int'),\n",
       " ('Warning_1.3', 'int'),\n",
       " ('Warning_1.4', 'int'),\n",
       " ('Warning_1.5', 'int'),\n",
       " ('Warning_1.6', 'int'),\n",
       " ('Warning_1.7', 'int'),\n",
       " ('Warning_1.8', 'int'),\n",
       " ('Warning_1.9', 'int'),\n",
       " ('Warning_1.10', 'int'),\n",
       " ('Warning_1.11', 'int'),\n",
       " ('Warning_1.12', 'int'),\n",
       " ('Warning_1.13', 'int'),\n",
       " ('Warning_1.14', 'int'),\n",
       " ('Warning_1.15', 'int'),\n",
       " ('Warning_1.16', 'int'),\n",
       " ('Warning_1.17', 'int'),\n",
       " ('Warning_1.18', 'int'),\n",
       " ('Warning_1.19', 'int'),\n",
       " ('Warning_1.20', 'int'),\n",
       " ('Warning_1.21', 'int'),\n",
       " ('Warning_1.22', 'int'),\n",
       " ('Warning_1.23', 'int'),\n",
       " ('Warning_1.24', 'int'),\n",
       " ('Warning_1.25', 'int'),\n",
       " ('Warning_1.26', 'int'),\n",
       " ('Warning_1.27', 'int'),\n",
       " ('Warning_1.28', 'int'),\n",
       " ('Warning_1.29', 'int'),\n",
       " ('Warning_1.30', 'int'),\n",
       " ('Warning_1.31', 'int'),\n",
       " ('Warning_1.32', 'int'),\n",
       " ('Warning_1.33', 'int'),\n",
       " ('Warning_1.36', 'int'),\n",
       " ('Warning_1.37', 'int'),\n",
       " ('Warning_1.38', 'int'),\n",
       " ('Warning_1.39', 'int'),\n",
       " ('Warning_1.40', 'int'),\n",
       " ('Warning_1.41', 'int'),\n",
       " ('Warning_1.42', 'int'),\n",
       " ('Warning_1.43', 'int'),\n",
       " ('Warning_1.44', 'int'),\n",
       " ('Warning_1.45', 'int'),\n",
       " ('Warning_1.46', 'int'),\n",
       " ('Warning_2.1', 'int'),\n",
       " ('Warning_2.2', 'int'),\n",
       " ('Warning_2.3', 'int'),\n",
       " ('Warning_2.4', 'int'),\n",
       " ('Warning_2.5', 'int'),\n",
       " ('Warning_2.6', 'int'),\n",
       " ('Warning_2.7', 'int'),\n",
       " ('Warning_2.8', 'int'),\n",
       " ('Warning_2.9', 'int'),\n",
       " ('Warning_2.10', 'int'),\n",
       " ('Warning_2.11', 'int'),\n",
       " ('Warning_2.12', 'int'),\n",
       " ('Warning_2.13', 'int'),\n",
       " ('Warning_2.14', 'int'),\n",
       " ('Warning_2.15', 'int'),\n",
       " ('Warning_2.16', 'int'),\n",
       " ('Warning_2.17', 'int'),\n",
       " ('Warning_2.18', 'int'),\n",
       " ('Warning_2.19', 'int'),\n",
       " ('Warning_2.20', 'int'),\n",
       " ('Warning_2.21', 'int'),\n",
       " ('Warning_2.22', 'int'),\n",
       " ('Warning_2.23', 'int'),\n",
       " ('Warning_2.24', 'int'),\n",
       " ('Warning_2.25', 'int'),\n",
       " ('Warning_2.26', 'int'),\n",
       " ('Warning_2.27', 'int'),\n",
       " ('Warning_2.28', 'int'),\n",
       " ('Warning_2.29', 'int'),\n",
       " ('Warning_2.30', 'int'),\n",
       " ('Warning_2.31', 'int'),\n",
       " ('Warning_2.32', 'int'),\n",
       " ('Warning_2.33', 'int'),\n",
       " ('Warning_2.34', 'int'),\n",
       " ('Warning_2.35', 'int'),\n",
       " ('Warning_2.36', 'int'),\n",
       " ('Warning_2.37', 'int'),\n",
       " ('Warning_2.38', 'int'),\n",
       " ('Warning_2.39', 'int'),\n",
       " ('Warning_2.40', 'int'),\n",
       " ('Warning_2.41', 'int'),\n",
       " ('Warning_2.42', 'int'),\n",
       " ('Warning_2.43', 'int'),\n",
       " ('Warning_2.44', 'int'),\n",
       " ('Warning_2.45', 'int'),\n",
       " ('Warning_2.46', 'int'),\n",
       " ('Warning_2.47', 'int'),\n",
       " ('Warning_2.48', 'int'),\n",
       " ('Warning_2.49', 'int'),\n",
       " ('Warning_2.50', 'int'),\n",
       " ('Warning_2.51', 'int'),\n",
       " ('Warning_2.52', 'int'),\n",
       " ('Warning_2.53', 'int'),\n",
       " ('Warning_2.54', 'int'),\n",
       " ('Warning_2.55', 'int'),\n",
       " ('Warning_2.56', 'int'),\n",
       " ('Warning_2.57', 'int'),\n",
       " ('Warning_2.58', 'int'),\n",
       " ('Warning_2.59', 'int'),\n",
       " ('Warning_2.60', 'int'),\n",
       " ('Warning_2.61', 'int'),\n",
       " ('Warning_2.62', 'int'),\n",
       " ('Warning_2.63', 'int'),\n",
       " ('Warning_2.64', 'int'),\n",
       " ('Warning_2.65', 'int'),\n",
       " ('Warning_2.66', 'int'),\n",
       " ('Warning_2.67', 'int'),\n",
       " ('Warning_2.68', 'int'),\n",
       " ('Warning_2.69', 'int'),\n",
       " ('Warning_2.70', 'int'),\n",
       " ('Warning_2.71', 'int'),\n",
       " ('Warning_2.72', 'int'),\n",
       " ('Warning_2.73', 'int'),\n",
       " ('Warning_2.74', 'int'),\n",
       " ('Warning_2.75', 'int'),\n",
       " ('Warning_2.76', 'int'),\n",
       " ('Warning_2.77', 'int'),\n",
       " ('Warning_2.78', 'int'),\n",
       " ('Warning_2.79', 'int'),\n",
       " ('Warning_2.80', 'int'),\n",
       " ('Warning_2.81', 'int'),\n",
       " ('Warning_2.82', 'int'),\n",
       " ('Warning_2.83', 'int'),\n",
       " ('Warning_2.84', 'int'),\n",
       " ('Warning_2.88', 'int'),\n",
       " ('Warning_2.89', 'int'),\n",
       " ('Warning_2.90', 'int'),\n",
       " ('Warning_2.91', 'int'),\n",
       " ('Warning_2.92', 'int'),\n",
       " ('Warning_2.93', 'int'),\n",
       " ('Warning_2.94', 'int'),\n",
       " ('Warning_2.95', 'int'),\n",
       " ('Warning_2.96', 'int'),\n",
       " ('Warning_2.97', 'int'),\n",
       " ('Warning_2.98', 'int'),\n",
       " ('Warning_2.99', 'int'),\n",
       " ('Warning_2.100', 'int'),\n",
       " ('Warning_2.101', 'int'),\n",
       " ('Warning_2.102', 'int'),\n",
       " ('Warning_2.103', 'int'),\n",
       " ('Warning_2.104', 'int'),\n",
       " ('Warning_2.105', 'int'),\n",
       " ('Warning_2.106', 'int'),\n",
       " ('Warning_2.107', 'int'),\n",
       " ('Error_Count_1', 'int'),\n",
       " ('Error_Count_2', 'int'),\n",
       " ('Error_Count_3', 'int'),\n",
       " ('Error_Count_4', 'int'),\n",
       " ('Error_Count_5', 'int'),\n",
       " ('Error_Count_6', 'int'),\n",
       " ('Error_Count_7', 'int'),\n",
       " ('Error_Count_8', 'int'),\n",
       " ('Fault_Code_Type_1', 'string'),\n",
       " ('Fault_Code_Type_2', 'string'),\n",
       " ('Fault_Code_Type_3', 'string'),\n",
       " ('Fault_Code_Type_4', 'string'),\n",
       " ('ProblemReported', 'int')]"
      ]
     },
     "execution_count": 5,
     "metadata": {},
     "output_type": "execute_result"
    }
   ],
   "source": [
    "# check data schema\n",
    "df.dtypes"
   ]
  },
  {
   "cell_type": "code",
   "execution_count": 6,
   "metadata": {
    "collapsed": false
   },
   "outputs": [
    {
     "name": "stdout",
     "output_type": "stream",
     "text": [
      "+--------+--------------------+\n",
      "|deviceid|                date|\n",
      "+--------+--------------------+\n",
      "|   N0001|2013-05-02 00:00:...|\n",
      "|   N0001|2014-04-27 00:00:...|\n",
      "|   N0001|2014-09-17 00:00:...|\n",
      "+--------+--------------------+\n",
      "only showing top 3 rows\n",
      "\n"
     ]
    }
   ],
   "source": [
    "#--------------------------------------- initial data cleansing -----------------------------------------------#\n",
    "\n",
    "# standardize the column names\n",
    "def StandardizeNames(df):\n",
    "    l = df.columns\n",
    "    cols = [c.replace(' ','_').\n",
    "              replace('[.]','_').\n",
    "              replace('.','_').\n",
    "              replace('[[:punct:]]','_').\n",
    "              lower() for c in l]\n",
    "    return df.toDF(*cols)\n",
    "df = StandardizeNames(df)\n",
    "\n",
    "# remove duplicated rows based on deviceid and date\n",
    "df = df.dropDuplicates(['deviceid', 'date'])\n",
    "\n",
    "# remove rows with missing deviceid, date\n",
    "df = df.dropna(how='any', subset=['deviceid', 'date'])\n",
    "\n",
    "# # transform 'date\" to date format \"12/1/2012 12:00:00 AM\"\n",
    "# datetime_transform = udf(lambda x: datetime.strptime(x, '%m/%d/%Y %H:%M:%S %p'), DateType())\n",
    "# data = data.withColumn('date', datetime_transform(col('date')))\n",
    "\n",
    "df.select('deviceid','date').show(3)\n"
   ]
  },
  {
   "cell_type": "code",
   "execution_count": 7,
   "metadata": {
    "collapsed": false,
    "scrolled": false
   },
   "outputs": [],
   "source": [
    "#------------------------------------------- Define groups of features ------------------------------------------#\n",
    "\n",
    "features_datetime = ['date']\n",
    "\n",
    "features_categorical = ['deviceid','Categorical_1','Categorical_2','Categorical_3','Categorical_4',\n",
    "                        'fault_code_type_1','fault_code_type_2',\n",
    "                        'fault_code_type_3','fault_code_type_4',\n",
    "                        'problemreported']\n",
    "\n",
    "features_numeric = list(set(df.columns) -set(features_datetime)-set(features_categorical))\n"
   ]
  },
  {
   "cell_type": "code",
   "execution_count": 8,
   "metadata": {
    "collapsed": false
   },
   "outputs": [
    {
     "name": "stdout",
     "output_type": "stream",
     "text": [
      "[Row(fault_code_type_3=None), Row(fault_code_type_3=None), Row(fault_code_type_3=None)]\n"
     ]
    }
   ],
   "source": [
    "print(df['fault_code_type_3',].head(3))\n",
    "# there are some missing values, we need to handle in the subsequent steps\n"
   ]
  },
  {
   "cell_type": "code",
   "execution_count": 9,
   "metadata": {
    "collapsed": false,
    "scrolled": true
   },
   "outputs": [
    {
     "name": "stdout",
     "output_type": "stream",
     "text": [
      "[Row(fault_code_type_3=u'Unknown'), Row(fault_code_type_3=u'Unknown'), Row(fault_code_type_3=u'Unknown')]\n"
     ]
    }
   ],
   "source": [
    "### handle missing values\n",
    "df = df.fillna(0, subset=features_numeric)\n",
    "df = df.fillna(\"Unknown\", subset=features_categorical)\n",
    "\n",
    "# check the results\n",
    "print(df['fault_code_type_3',].head(3))\n"
   ]
  },
  {
   "cell_type": "code",
   "execution_count": 10,
   "metadata": {
    "collapsed": false,
    "scrolled": false
   },
   "outputs": [
    {
     "data": {
      "image/png": "[encoded data removed]",
      "text/plain": [
       "<matplotlib.figure.Figure at 0x7f597a0d9750>"
      ]
     },
     "metadata": {},
     "output_type": "display_data"
    },
    {
     "data": {
      "text/plain": [
       "<matplotlib.figure.Figure at 0x7f5997043cd0>"
      ]
     },
     "metadata": {},
     "output_type": "display_data"
    },
    {
     "data": {
      "image/png": "[encoded data removed]",
      "text/plain": [
       "<matplotlib.figure.Figure at 0x7f5979c5a610>"
      ]
     },
     "metadata": {},
     "output_type": "display_data"
    },
    {
     "data": {
      "text/plain": [
       "<matplotlib.figure.Figure at 0x7f59823d0910>"
      ]
     },
     "metadata": {},
     "output_type": "display_data"
    },
    {
     "data": {
      "text/plain": [
       "<matplotlib.axes._subplots.AxesSubplot at 0x7f596c27d050>"
      ]
     },
     "execution_count": 10,
     "metadata": {},
     "output_type": "execute_result"
    },
    {
     "data": {
      "image/png": "[encoded data removed]",
      "text/plain": [
       "<matplotlib.figure.Figure at 0x7f596c208510>"
      ]
     },
     "metadata": {},
     "output_type": "display_data"
    }
   ],
   "source": [
    "#------------------------------------ data exploration and visualization ------------------------------------#\n",
    "\n",
    "# Register dataframe as a temp table in SQL context\n",
    "df.createOrReplaceTempView(\"df1\")\n",
    "\n",
    "sqlStatement = \"\"\"\n",
    "    SELECT problem_type_1, problem_type_2, problem_type_3, problem_type_4,\n",
    "    error_count_1, error_count_2, error_count_3, error_count_4, \n",
    "    error_count_5, error_count_6, error_count_7, error_count_8, problemreported\n",
    "    FROM df1\n",
    "\"\"\"\n",
    "plotdata = spark.sql(sqlStatement).toPandas();\n",
    "\n",
    "\n",
    "%matplotlib inline\n",
    "\n",
    "### show histogram distribution of some features\n",
    "ax1 = plotdata[['problem_type_1']].plot(kind='hist', bins=5, facecolor='blue')\n",
    "ax1.set_title('problem_type_1 distribution')\n",
    "ax1.set_xlabel('number of problem_type_1 per day'); ax1.set_ylabel('Counts');\n",
    "plt.figure(figsize=(4,4)); plt.suptitle(''); plt.show()\n",
    "\n",
    "ax1 = plotdata[['problem_type_2']].plot(kind='hist', bins=5, facecolor='blue')\n",
    "ax1.set_title('problem_type_2 distribution')\n",
    "ax1.set_xlabel('number of problem_type_2 per day'); ax1.set_ylabel('Counts');\n",
    "plt.figure(figsize=(4,4)); plt.suptitle(''); plt.show()\n",
    "\n",
    "\n",
    "### show correlation matrix heatmap to explore some potential interesting patterns\n",
    "corr = plotdata.corr()\n",
    "sns.heatmap(corr, \n",
    "            xticklabels=corr.columns.values,\n",
    "            yticklabels=corr.columns.values)\n"
   ]
  },
  {
   "cell_type": "markdown",
   "metadata": {},
   "source": [
    "# Feature Engineering"
   ]
  },
  {
   "cell_type": "code",
   "execution_count": 11,
   "metadata": {
    "collapsed": false
   },
   "outputs": [
    {
     "name": "stdout",
     "output_type": "stream",
     "text": [
      "[Row(warn_type1_total=-430), Row(warn_type1_total=-430), Row(warn_type1_total=-419)]\n",
      "[Row(warn_type2_total=-1040), Row(warn_type2_total=-1040), Row(warn_type2_total=-1040)]\n"
     ]
    }
   ],
   "source": [
    "# Extract some time features from \"date\" column\n",
    "df = df.withColumn('month', month(df['date']))\n",
    "df = df.withColumn('weekofyear', weekofyear(df['date']))\n",
    "df = df.withColumn('dayofmonth', dayofmonth(df['date']))\n",
    "\n",
    "\n",
    "# warning related raw features\n",
    "warning_type1_features = list(s for s in df.columns if \"warning_1_\" in s) \n",
    "                            \n",
    "warning_type2_features = list(s for s in df.columns if \"warning_2_\" in s)\n",
    "\n",
    "warning_all = warning_type1_features + warning_type2_features\n",
    "\n",
    "# total count of all type1 warnings each day each device\n",
    "df = df.withColumn('warn_type1_total', sum(df[col_n] for col_n in warning_type1_features))\n",
    "# total count of all type2 warnings each day each device\n",
    "df = df.withColumn('warn_type2_total', sum(df[col_n] for col_n in warning_type2_features))\n",
    "\n",
    "print(df['warn_type1_total',].head(3))\n",
    "print(df['warn_type2_total',].head(3))\n"
   ]
  },
  {
   "cell_type": "code",
   "execution_count": 12,
   "metadata": {
    "collapsed": false
   },
   "outputs": [
    {
     "name": "stdout",
     "output_type": "stream",
     "text": [
      "[Row(warn_type1_total=0), Row(warn_type1_total=0), Row(warn_type1_total=1)]\n",
      "[Row(warn_type2_total=0), Row(warn_type2_total=0), Row(warn_type2_total=0)]\n"
     ]
    }
   ],
   "source": [
    "# We realized that the warning counts have negative values\n",
    "# Replace all the negative values with 0\n",
    "\n",
    "def negative_replace(num):\n",
    "    if num < 0: return 0\n",
    "    else: return num\n",
    "    \n",
    "negative_replace_Udf = udf(negative_replace, IntegerType())\n",
    "\n",
    "m = warning_type1_features + warning_type2_features\n",
    "for col_n in m:\n",
    "    df = df.withColumn(col_n, negative_replace_Udf(df[col_n]))\n",
    "\n",
    "# Then we have to re-calculate the total warnings again \n",
    "df = df.withColumn('warn_type1_total', sum(df[col_n] for col_n in warning_type1_features))\n",
    "df = df.withColumn('warn_type2_total', sum(df[col_n] for col_n in warning_type2_features))\n",
    "\n",
    "print(df['warn_type1_total',].head(3))\n",
    "print(df['warn_type2_total',].head(3))\n"
   ]
  },
  {
   "cell_type": "code",
   "execution_count": 13,
   "metadata": {
    "collapsed": false
   },
   "outputs": [
    {
     "name": "stdout",
     "output_type": "stream",
     "text": [
      "[u'11-20', u'21-30', u'0-10', u'31-40']\n",
      "[u'2000-3000', u'morethan6000', u'5000-6000', u'3000-4000', u'0-2000', u'4000-5000']\n",
      "[u'600-800', u'200-400', u'400-600', u'0-200']\n",
      "[u'5000-10000', u'morethan20000', u'0-5000', u'15000-20000', u'10000-15000']\n"
     ]
    }
   ],
   "source": [
    "# Bin some categorical features which appear to be numeric features\n",
    "# Note: we can also use SparkSQL for this binning task\n",
    "\n",
    "def Cat1(num):\n",
    "    if num <= 10: return '0-10'\n",
    "    elif 10 < num and num <= 20: return '11-20'\n",
    "    elif 20 < num and num <= 30: return '21-30'\n",
    "    elif 30 < num and num <= 40: return '31-40'\n",
    "    else: return 'morethan40'\n",
    "cat1Udf = udf(Cat1, StringType())\n",
    "df = df.withColumn(\"cat1\", cat1Udf('categorical_1'))\n",
    "\n",
    "\n",
    "def Cat2(num):\n",
    "    if num <= 2000: return '0-2000'\n",
    "    elif 2000 < num and num <= 3000: return '2000-3000'\n",
    "    elif 3000 < num and num <= 4000: return '3000-4000'\n",
    "    elif 4000 < num and num <= 5000: return '4000-5000'\n",
    "    elif 5000 < num and num <= 6000: return '5000-6000'\n",
    "    else: return 'morethan6000'\n",
    "cat2Udf = udf(Cat2, StringType())\n",
    "df = df.withColumn(\"cat2\", cat2Udf('categorical_2'))\n",
    "\n",
    "\n",
    "def Cat3(num):\n",
    "    if num <= 200: return '0-200'\n",
    "    elif 200 < num and num <= 400: return '200-400'\n",
    "    elif 400 < num and num <= 600: return '400-600'\n",
    "    elif 600 < num and num <= 800: return '600-800'\n",
    "    else: return 'morethan800'\n",
    "cat3Udf = udf(Cat3, StringType())\n",
    "df = df.withColumn(\"cat3\", cat3Udf('categorical_3'))\n",
    "\n",
    "\n",
    "def Cat4(num):\n",
    "    if num <= 5000: return '0-5000'\n",
    "    elif 5000 < num and num <= 10000: return '5000-10000'\n",
    "    elif 10000 < num and num <= 15000: return '10000-15000'\n",
    "    elif 15000 < num and num <= 20000: return '15000-20000'\n",
    "    else: return 'morethan20000'\n",
    "cat4Udf = udf(Cat4, StringType())\n",
    "df = df.withColumn(\"cat4\", cat4Udf('categorical_4'))\n",
    "\n",
    "\n",
    "print(df.select('cat1').distinct().rdd.map(lambda r: r[0]).collect())\n",
    "print(df.select('cat2').distinct().rdd.map(lambda r: r[0]).collect())\n",
    "print(df.select('cat3').distinct().rdd.map(lambda r: r[0]).collect())\n",
    "print(df.select('cat4').distinct().rdd.map(lambda r: r[0]).collect())\n"
   ]
  },
  {
   "cell_type": "code",
   "execution_count": 14,
   "metadata": {
    "collapsed": false
   },
   "outputs": [
    {
     "name": "stdout",
     "output_type": "stream",
     "text": [
      "+-----------------------+-------+\n",
      "|fault_code_type_1_count|  count|\n",
      "+-----------------------+-------+\n",
      "|                      1|  50636|\n",
      "|                      0|2034466|\n",
      "+-----------------------+-------+\n",
      "\n",
      "+-----------------------+-------+\n",
      "|fault_code_type_2_count|  count|\n",
      "+-----------------------+-------+\n",
      "|                      1|  65676|\n",
      "|                      0|2019426|\n",
      "+-----------------------+-------+\n",
      "\n",
      "+-----------------------+-------+\n",
      "|fault_code_type_3_count|  count|\n",
      "+-----------------------+-------+\n",
      "|                      1|  86409|\n",
      "|                      0|1998693|\n",
      "+-----------------------+-------+\n",
      "\n",
      "+-----------------------+-------+\n",
      "|fault_code_type_4_count|  count|\n",
      "+-----------------------+-------+\n",
      "|                      1|  39593|\n",
      "|                      0|2045509|\n",
      "+-----------------------+-------+\n",
      "\n"
     ]
    }
   ],
   "source": [
    "# Define counts of various types of fault codes\n",
    "# for each fault code, define a \"count\" column equal to 1 if we have an error and 0 otherwise\n",
    "\n",
    "df = df.withColumn(\"fault_code_type_1_count\",F.when(df.fault_code_type_1!= \"Unknown\", 1).otherwise(0))\\\n",
    "       .withColumn(\"fault_code_type_2_count\",F.when(df.fault_code_type_2!= \"Unknown\", 1).otherwise(0))\\\n",
    "       .withColumn(\"fault_code_type_3_count\",F.when(df.fault_code_type_3!= \"Unknown\", 1).otherwise(0))\\\n",
    "       .withColumn(\"fault_code_type_4_count\",F.when(df.fault_code_type_4!= \"Unknown\", 1).otherwise(0))\n",
    "\n",
    "df.groupby('fault_code_type_1_count').count().show()\n",
    "df.groupby('fault_code_type_2_count').count().show()\n",
    "df.groupby('fault_code_type_3_count').count().show()\n",
    "df.groupby('fault_code_type_4_count').count().show()\n"
   ]
  },
  {
   "cell_type": "code",
   "execution_count": 15,
   "metadata": {
    "collapsed": true
   },
   "outputs": [],
   "source": [
    "##### feature engineering performance related features #####\n",
    "\n",
    "# The idea behind this normalization is that devices with more \"problems\" might simply because they are used more frequently\n",
    "# We need to normalize the \"problem\" counts by the corresponding usage counts\n",
    "\n",
    "# First, select the 8 raw performance features to be normalized\n",
    "performance_normal_raw = ['problem_type_1','problem_type_2','problem_type_3','problem_type_4',\n",
    "                          'fault_code_type_1_count','fault_code_type_2_count','fault_code_type_3_count', 'fault_code_type_4_count']\n",
    "\n",
    "performance_normalizer = ['usage_count_1','usage_count_2']\n",
    "\n",
    "# Normalize performance_normal_raw by \"usage_count_1\"\n",
    "df = df.withColumn(\"problem_type_1_per_usage1\", F.when(df.usage_count_1==0,0).otherwise(df.problem_type_1/df.usage_count_1))\\\n",
    "       .withColumn(\"problem_type_2_per_usage1\",F.when(df.usage_count_1==0,0).otherwise(df.problem_type_2/df.usage_count_1))\\\n",
    "       .withColumn(\"problem_type_3_per_usage1\",F.when(df.usage_count_1==0,0).otherwise(df.problem_type_3/df.usage_count_1))\\\n",
    "       .withColumn(\"problem_type_4_per_usage1\",F.when(df.usage_count_1==0,0).otherwise(df.problem_type_4/df.usage_count_1))\\\n",
    "       .withColumn(\"fault_code_type_1_count_per_usage1\",F.when(df.usage_count_1==0,0).otherwise(df.fault_code_type_1_count/df.usage_count_1))\\\n",
    "       .withColumn(\"fault_code_type_2_count_per_usage1\",F.when(df.usage_count_1==0,0).otherwise(df.fault_code_type_2_count/df.usage_count_1))\\\n",
    "       .withColumn(\"fault_code_type_3_count_per_usage1\",F.when(df.usage_count_1==0,0).otherwise(df.fault_code_type_3_count/df.usage_count_1))\\\n",
    "       .withColumn(\"fault_code_type_4_count_per_usage1\",F.when(df.usage_count_1==0,0).otherwise(df.fault_code_type_4_count/df.usage_count_1))\n",
    "\n",
    "# Normalize performance_normal_raw by \"usage_count_2\"\n",
    "df = df.withColumn(\"problem_type_1_per_usage2\", F.when(df.usage_count_2==0,0).otherwise(df.problem_type_1/df.usage_count_2))\\\n",
    "       .withColumn(\"problem_type_2_per_usage2\",F.when(df.usage_count_2==0,0).otherwise(df.problem_type_2/df.usage_count_2))\\\n",
    "       .withColumn(\"problem_type_3_per_usage2\",F.when(df.usage_count_2==0,0).otherwise(df.problem_type_3/df.usage_count_2))\\\n",
    "       .withColumn(\"problem_type_4_per_usage2\",F.when(df.usage_count_2==0,0).otherwise(df.problem_type_4/df.usage_count_2))\\\n",
    "       .withColumn(\"fault_code_type_1_count_per_usage2\",F.when(df.usage_count_2==0,0).otherwise(df.fault_code_type_1_count/df.usage_count_2))\\\n",
    "       .withColumn(\"fault_code_type_2_count_per_usage2\",F.when(df.usage_count_2==0,0).otherwise(df.fault_code_type_2_count/df.usage_count_2))\\\n",
    "       .withColumn(\"fault_code_type_3_count_per_usage2\",F.when(df.usage_count_2==0,0).otherwise(df.fault_code_type_3_count/df.usage_count_2))\\\n",
    "       .withColumn(\"fault_code_type_4_count_per_usage2\",F.when(df.usage_count_2==0,0).otherwise(df.fault_code_type_4_count/df.usage_count_2))\n"
   ]
  },
  {
   "cell_type": "code",
   "execution_count": 16,
   "metadata": {
    "collapsed": false
   },
   "outputs": [
    {
     "name": "stdout",
     "output_type": "stream",
     "text": [
      "[u'0', u'>1', u'1']\n",
      "[u'>10', u'0', u'6-10', u'1-5']\n"
     ]
    }
   ],
   "source": [
    "# Bin some of the performance features \n",
    "\n",
    "###### Bin ('0','1','>1') #######\n",
    "c_names = ['problem_type_1', 'problem_type_3', 'problem_type_4',\n",
    "           'problem_type_1_per_usage1','problem_type_2_per_usage1','problem_type_3_per_usage1','problem_type_4_per_usage1',\n",
    "           'problem_type_1_per_usage2','problem_type_2_per_usage2','problem_type_3_per_usage2','problem_type_4_per_usage2',\n",
    "           'fault_code_type_1_count', 'fault_code_type_2_count', 'fault_code_type_3_count', 'fault_code_type_4_count',                          \n",
    "           'fault_code_type_1_count_per_usage1','fault_code_type_2_count_per_usage1',\n",
    "           'fault_code_type_3_count_per_usage1', 'fault_code_type_4_count_per_usage1',\n",
    "           'fault_code_type_1_count_per_usage2','fault_code_type_2_count_per_usage2',\n",
    "           'fault_code_type_3_count_per_usage2', 'fault_code_type_4_count_per_usage2']\n",
    "\n",
    "def performanceCat(num):\n",
    "    if num == 0: return '0'\n",
    "    elif num ==1: return '1'\n",
    "    else: return '>1'\n",
    "    \n",
    "performanceCatUdf = udf(performanceCat, StringType())\n",
    "for col_n in c_names:\n",
    "    df = df.withColumn(col_n+'_category',performanceCatUdf(df[col_n]))\n",
    "\n",
    "# Use different bin for \"problem_type_2\"\n",
    "def problem_type_2_Cat(num):\n",
    "    if num == 0: return '0'\n",
    "    elif 0 < num and num <= 5: return '1-5'\n",
    "    elif 5 < num and num <= 10: return '6-10'\n",
    "    else: return '>10'\n",
    "\n",
    "problem_type_2_CatUdf = udf(problem_type_2_Cat, StringType())\n",
    "df = df.withColumn('problem_type_2_category',problem_type_2_CatUdf(df['problem_type_2']))\n",
    "\n",
    "\n",
    "print(df.select('problem_type_1_category').distinct().rdd.map(lambda r: r[0]).collect())\n",
    "print(df.select('problem_type_2_category').distinct().rdd.map(lambda r: r[0]).collect())\n"
   ]
  },
  {
   "cell_type": "code",
   "execution_count": 17,
   "metadata": {
    "collapsed": false,
    "scrolled": true
   },
   "outputs": [
    {
     "name": "stdout",
     "output_type": "stream",
     "text": [
      "[Row(problem_type_1_category_encoded=SparseVector(2, {0: 1.0})), Row(problem_type_1_category_encoded=SparseVector(2, {0: 1.0})), Row(problem_type_1_category_encoded=SparseVector(2, {0: 1.0}))]\n",
      "CPU times: user 747 ms, sys: 199 ms, total: 946 ms\n",
      "Wall time: 13min 22s\n"
     ]
    }
   ],
   "source": [
    "%%time\n",
    "\n",
    "# One hot encode some categotical features\n",
    "\n",
    "catVarNames = ['problem_type_1_category', 'problem_type_2_category',\n",
    "               'problem_type_3_category', 'problem_type_4_category',\n",
    "               'problem_type_1_per_usage1_category', 'problem_type_2_per_usage1_category',\n",
    "               'problem_type_3_per_usage1_category', 'problem_type_4_per_usage1_category',\n",
    "               'problem_type_1_per_usage2_category', 'problem_type_2_per_usage2_category',\n",
    "               'problem_type_3_per_usage2_category', 'problem_type_4_per_usage2_category',\n",
    "               'fault_code_type_1_count_category', 'fault_code_type_2_count_category',\n",
    "               'fault_code_type_3_count_category', 'fault_code_type_4_count_category',\n",
    "               'fault_code_type_1_count_per_usage1_category', 'fault_code_type_2_count_per_usage1_category',\n",
    "               'fault_code_type_3_count_per_usage1_category', 'fault_code_type_4_count_per_usage1_category',\n",
    "               'fault_code_type_1_count_per_usage2_category', 'fault_code_type_2_count_per_usage2_category',\n",
    "               'fault_code_type_3_count_per_usage2_category', 'fault_code_type_4_count_per_usage2_category',\n",
    "               'cat1','cat2','cat3','cat4']\n",
    "    \n",
    "    \n",
    "sIndexers = [StringIndexer(inputCol=x, outputCol=x + '_indexed') for x in catVarNames]\n",
    "\n",
    "df_cat = Pipeline(stages=sIndexers).fit(df).transform(df)\n",
    "\n",
    "# Remove columns with only 1 level (compute variances of columns)\n",
    "catColVariance = df_cat.select(\n",
    "    *(F.variance(df_cat[c]).alias(c + '_sd') for c in [cv + '_indexed' for cv in catVarNames]))\n",
    "catColVariance = catColVariance.rdd.flatMap(lambda x: x).collect()\n",
    "catVarNames = [catVarNames[k] for k in [i for i, v in enumerate(catColVariance) if v != 0]]\n",
    "\n",
    "# encode\n",
    "ohEncoders = [OneHotEncoder(inputCol=x + '_indexed', outputCol=x + '_encoded')\n",
    "              for x in catVarNames]\n",
    "ohPipelineModel = Pipeline(stages=ohEncoders).fit(df_cat)\n",
    "df_cat = ohPipelineModel.transform(df_cat)\n",
    "\n",
    "drop_list = [col_n for col_n in df_cat.columns if 'indexed' in col_n]\n",
    "df = df_cat.select([column for column in df_cat.columns if column not in drop_list])\n",
    "\n",
    "print(df['problem_type_1_category_encoded',].head(3))\n"
   ]
  },
  {
   "cell_type": "code",
   "execution_count": 18,
   "metadata": {
    "collapsed": false
   },
   "outputs": [
    {
     "data": {
      "text/plain": [
       "147"
      ]
     },
     "execution_count": 18,
     "metadata": {},
     "output_type": "execute_result"
    }
   ],
   "source": [
    "## check the number of warning related features\n",
    "len([col_n for col_n in df.columns if 'warning' in col_n])\n",
    "\n",
    "### there are more than hundrends of warning features, most of them have value 0 so quite sparse\n",
    "### we need to group or find correlation among those warning features, reduce the feature space for downstream work"
   ]
  },
  {
   "cell_type": "code",
   "execution_count": 19,
   "metadata": {
    "collapsed": false
   },
   "outputs": [
    {
     "name": "stdout",
     "output_type": "stream",
     "text": [
      "[0.0483107423499,0.0278314776592,0.0254509402103,0.0236091224214,0.0200247085239,0.0188475892993,0.0183962875162,0.0177510201652,0.0167993077022,0.0163456905185,0.016006950633,0.0155092512672,0.0144804538583,0.0140982528803,0.0139322569416,0.0137500740086,0.0136491126177,0.0129200916821,0.0122476113985,0.0115038758841]\n",
      "[Row(pca_1_warn=0.0), Row(pca_1_warn=0.0), Row(pca_1_warn=0.0)]\n",
      "CPU times: user 191 ms, sys: 39.2 ms, total: 230 ms\n",
      "Wall time: 2min 43s\n"
     ]
    }
   ],
   "source": [
    "%%time\n",
    "\n",
    "#----------------------------- PCA feature grouping on warning related features --------------------------#\n",
    "\n",
    "df = df.withColumn(\"key\", concat(df.deviceid,lit(\"_\"),df.date))\n",
    "\n",
    "##### step 1 #####\n",
    "# Use RFormula to create the feature vector\n",
    "formula = RFormula(formula = \"~\" + \"+\".join(warning_all))\n",
    "output = formula.fit(df).transform(df).select(\"key\",\"features\") \n",
    "\n",
    "\n",
    "##### step 2 #####\n",
    "# Before PCA, we need to standardize the features, it is very important...\n",
    "# Note that StandardScaler does not work for sparse vector unless withMean=false\n",
    "# OR we can convert sparse vector to dense vector first using toArray\n",
    "scaler = StandardScaler(inputCol=\"features\", outputCol=\"scaledFeatures\",\n",
    "                        withStd=True, withMean=False)\n",
    "\n",
    "# Compute summary statistics by fitting the StandardScaler\n",
    "scalerModel = scaler.fit(output)\n",
    "\n",
    "# Normalize each feature to have unit standard deviation.\n",
    "scaledData = scalerModel.transform(output)\n",
    "\n",
    "\n",
    "##### step 3 #####\n",
    "pca = PCA(k=20, inputCol=\"scaledFeatures\", outputCol=\"pcaFeatures\")\n",
    "model = pca.fit(scaledData)\n",
    "result = model.transform(scaledData).select(\"key\",\"pcaFeatures\")\n",
    "\n",
    "# to check how much variance explained by each component\n",
    "print(model.explainedVariance)  \n",
    "\n",
    "\n",
    "##### step 4 #####\n",
    "# convert pca result, a vector column, to mulitple columns\n",
    "# The reason why we did this was because later on we need to use those columns to generate more features (rolling compute) \n",
    "def extract(row):\n",
    "    return (row.key, ) + tuple(float(x) for x in row.pcaFeatures.values)\n",
    "\n",
    "pca_outcome = result.rdd.map(extract).toDF([\"key\"])\n",
    "\n",
    "# rename columns of pca_outcome\n",
    "oldColumns = pca_outcome.schema.names\n",
    "\n",
    "newColumns = [\"key\", \n",
    "              \"pca_1_warn\",\"pca_2_warn\",\"pca_3_warn\",\"pca_4_warn\",\"pca_5_warn\",\n",
    "              \"pca_6_warn\",\"pca_7_warn\",\"pca_8_warn\",\"pca_9_warn\",\"pca_10_warn\",\n",
    "              \"pca_11_warn\",\"pca_12_warn\",\"pca_13_warn\",\"pca_14_warn\",\"pca_15_warn\",\n",
    "              \"pca_16_warn\",\"pca_17_warn\",\"pca_18_warn\",\"pca_19_warn\",\"pca_20_warn\",\n",
    "             ]\n",
    "\n",
    "pca_result = reduce(lambda pca_outcome, idx: pca_outcome.withColumnRenamed(oldColumns[idx], newColumns[idx]), \\\n",
    "                                        xrange(len(oldColumns)), pca_outcome)\n",
    "\n",
    "df = df.join(pca_result, 'key', 'inner')\n",
    "\n",
    "print(df['pca_1_warn',].head(3))\n",
    "\n",
    "warning_drop_list = [col_n for col_n in df.columns if 'warning_' in col_n]\n",
    "df = df.select([column for column in df.columns if column not in warning_drop_list])\n"
   ]
  },
  {
   "cell_type": "code",
   "execution_count": 20,
   "metadata": {
    "collapsed": false,
    "scrolled": false
   },
   "outputs": [
    {
     "data": {
      "text/plain": [
       "<matplotlib.axes._subplots.AxesSubplot at 0x7f5976291f50>"
      ]
     },
     "execution_count": 20,
     "metadata": {},
     "output_type": "execute_result"
    },
    {
     "data": {
      "image/png": "[encoded data removed]",
      "text/plain": [
       "<matplotlib.figure.Figure at 0x7f59762e16d0>"
      ]
     },
     "metadata": {},
     "output_type": "display_data"
    }
   ],
   "source": [
    "## I would like to visualize the relationship among the 20 pca components\n",
    "\n",
    "# Register dataframe as a temp table in SQL context\n",
    "df.createOrReplaceTempView(\"df2\")\n",
    "\n",
    "sqlStatement2 = \"\"\"\n",
    "    SELECT pca_1_warn, pca_2_warn, pca_3_warn, pca_4_warn, pca_5_warn, \n",
    "    pca_6_warn, pca_7_warn, pca_8_warn, pca_9_warn, pca_10_warn,\n",
    "    pca_11_warn, pca_12_warn, pca_13_warn, pca_14_warn, pca_15_warn, \n",
    "    pca_16_warn, pca_17_warn, pca_18_warn, pca_19_warn, pca_20_warn\n",
    "    FROM df2\n",
    "\"\"\"\n",
    "plotdata2 = spark.sql(sqlStatement2).toPandas();\n",
    "\n",
    "\n",
    "%matplotlib inline\n",
    "### show correlation matrix heatmap to explore some potential interesting patterns\n",
    "corr = plotdata2.corr()\n",
    "sns.heatmap(corr, \n",
    "            xticklabels=corr.columns.values,\n",
    "            yticklabels=corr.columns.values)\n",
    "\n",
    "## from the plot we can see the 20 pca components do not overlap too much which is expected\n"
   ]
  },
  {
   "cell_type": "code",
   "execution_count": 21,
   "metadata": {
    "collapsed": false,
    "scrolled": false
   },
   "outputs": [
    {
     "name": "stdout",
     "output_type": "stream",
     "text": [
      "CPU times: user 87.6 ms, sys: 58.6 ms, total: 146 ms\n",
      "Wall time: 2min 3s\n"
     ]
    }
   ],
   "source": [
    "%%time\n",
    "\n",
    "## save the intermediate result for downstream work\n",
    "df.write.mode('overwrite').parquet('/mnt/resource/PysparkExample/notebook1_result.parquet')\n"
   ]
  }
 ],
 "metadata": {
  "anaconda-cloud": {},
  "kernelspec": {
   "display_name": "Spark - python",
   "language": "python",
   "name": "spark-python"
  },
  "language_info": {
   "codemirror_mode": {
    "name": "ipython",
    "version": 2
   },
   "file_extension": ".py",
   "mimetype": "text/x-python",
   "name": "python",
   "nbconvert_exporter": "python",
   "pygments_lexer": "ipython2",
   "version": "2.7.13"
  }
 },
 "nbformat": 4,
 "nbformat_minor": 2
}
