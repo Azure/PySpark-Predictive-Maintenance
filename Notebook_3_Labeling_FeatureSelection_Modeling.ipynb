{
 "cells": [
  {
   "cell_type": "markdown",
   "metadata": {},
   "source": [
    "# Notebook #3\n",
    "\n",
    "## Outline\n",
    "\n",
    "- [Load Result from Notebook #2](#Load-Result-from-Notebook-#2)\n",
    "- [Label Construction](#Label-Construction)\n",
    "- [Feature Reduction](#Feature-Reduction)\n",
    "- [Prepare Train and Test Data](#Prepare-train-and-test-data)\n",
    "   - [Time-dependent Splitting](#Prepare-train-and-test-dataset-using-time-split-method)\n",
    "   - [Down Sample Negative Examples](#Down-Sample-Negative-examples:)\n",
    "   - [Cache Results](#Cache-results)\n",
    "- [Binary Classification Models](#Binary-Classification-Models:)\n",
    "   - [Random Forest classifier](#Random-Forest-classifier)\n",
    "   - [Gradient-Boosted Tree classifier](#Gradient-Boosted-Tree-classifier)\n",
    "   - [Hyper-Parameter Tuning & Cross Validation](#Hyper-Parameter-Tuning-&-Cross-Validation)\n",
    "   \n",
    " <br>"
   ]
  },
  {
   "cell_type": "code",
   "execution_count": 1,
   "metadata": {
    "collapsed": false
   },
   "outputs": [
    {
     "name": "stderr",
     "output_type": "stream",
     "text": [
      "/anaconda/lib/python2.7/site-packages/sklearn/cross_validation.py:44: DeprecationWarning: This module was deprecated in version 0.18 in favor of the model_selection module into which all the refactored classes and functions are moved. Also note that the interface of the new CV iterators are different from that of this module. This module will be removed in 0.20.\n",
      "  \"This module will be removed in 0.20.\", DeprecationWarning)\n",
      "/anaconda/lib/python2.7/site-packages/sklearn/grid_search.py:43: DeprecationWarning: This module was deprecated in version 0.18 in favor of the model_selection module into which all the refactored classes and functions are moved. This module will be removed in 0.20.\n",
      "  DeprecationWarning)\n"
     ]
    }
   ],
   "source": [
    "import pyspark.sql.functions as F\n",
    "import time\n",
    "import pandas as pd\n",
    "import subprocess\n",
    "import sys\n",
    "import os\n",
    "import re\n",
    "import matplotlib.pyplot as plt\n",
    "import numpy as np\n",
    "import datetime\n",
    "import atexit\n",
    "\n",
    "from pyspark import SparkConf\n",
    "from pyspark import SparkContext\n",
    "from pyspark import SQLContext\n",
    "from pyspark.sql.types import *\n",
    "from pyspark.sql.functions import col,udf,lag,date_add,explode,lit,concat,unix_timestamp,sum, abs\n",
    "from pandas import DataFrame\n",
    "from pyspark.sql.dataframe import *\n",
    "from pyspark.ml.classification import *\n",
    "from pyspark.ml.feature import VectorAssembler\n",
    "from pyspark.sql.window import Window\n",
    "from pyspark.sql.types import DateType\n",
    "from pyspark.ml import Pipeline\n",
    "from pyspark.ml.feature import StringIndexer, OneHotEncoder\n",
    "from pyspark.ml.evaluation import *\n",
    "from pyspark.ml.tuning import CrossValidator\n",
    "from pyspark.ml.tuning import ParamGridBuilder\n",
    "from pyspark.sql import Row\n",
    "from pyspark.ml import Pipeline, PipelineModel\n",
    "from pyspark.mllib.evaluation import BinaryClassificationMetrics\n",
    "from pyspark.ml.feature import OneHotEncoder, StringIndexer, VectorIndexer, RFormula\n",
    "from pyspark.ml.tuning import CrossValidator, ParamGridBuilder\n",
    "from sklearn.metrics import roc_curve,auc\n",
    "from pyspark.sql.functions import month, weekofyear, dayofmonth\n",
    "from pyspark.ml.feature import ChiSqSelector\n",
    "from pyspark.ml.linalg import Vectors\n",
    "from pyspark.ml.feature import StandardScaler\n",
    "from pyspark.ml.feature import PCA\n",
    "from pyspark.ml.feature import MinMaxScaler\n",
    "from pyspark.sql.types import DoubleType\n",
    "from pyspark.ml.classification import RandomForestClassifier\n",
    "from pyspark.ml.evaluation import MulticlassClassificationEvaluator\n",
    "from pyspark.ml.classification import GBTClassifier\n",
    "from sklearn.metrics import precision_recall_fscore_support as score\n",
    "from sklearn.grid_search import ParameterGrid\n"
   ]
  },
  {
   "cell_type": "markdown",
   "metadata": {},
   "source": [
    "## Load Result from Notebook #2 "
   ]
  },
  {
   "cell_type": "code",
   "execution_count": 2,
   "metadata": {
    "collapsed": false,
    "scrolled": false
   },
   "outputs": [
    {
     "name": "stdout",
     "output_type": "stream",
     "text": [
      "(2085102, 1277)\n",
      "+--------------------+--------+\n",
      "|                 key|deviceid|\n",
      "+--------------------+--------+\n",
      "|N0001_2012-12-08 ...|   N0001|\n",
      "|N0001_2012-12-09 ...|   N0001|\n",
      "|N0001_2012-12-10 ...|   N0001|\n",
      "+--------------------+--------+\n",
      "only showing top 3 rows\n",
      "\n"
     ]
    }
   ],
   "source": [
    "# load result from Notebook #2 (\"FeatureEngineering_RollingCompute\")\n",
    "df = sqlContext.read.parquet('/mnt/resource/PysparkExample/notebook2_result.parquet')\n",
    "\n",
    "# check the dimension of the dataset and make sure things look right\n",
    "print(df.count(), len(df.columns))\n",
    "df.select('key','deviceid').show(3)\n"
   ]
  },
  {
   "cell_type": "markdown",
   "metadata": {},
   "source": [
    "## Label Construction\n",
    "\n",
    "For predictive maintenance use cases, we usually want to predict failure/problem ahead of time. In our example, we would like to be able to predict machine problem 7 days (failure prediction time window) in advance. That means for the label column, we need to label all the 7 days before the actual failure/problem day as \"1\". This time window should be picked based on the specific business case: in some situations it may be enough to predict failures hours in advance, while in others days or even weeks might be needed to make meaningful business decision such as allowing enough time for arrival of replacement parts.\n",
    "\n",
    "To find more detailed information about the label construction technique, please visit [this link](https://pdfs.semanticscholar.org/284d/f4ec85eed338a87fece985246c5bd4f56495.pdf).\n",
    "<br>"
   ]
  },
  {
   "cell_type": "code",
   "execution_count": 3,
   "metadata": {
    "collapsed": false
   },
   "outputs": [
    {
     "name": "stdout",
     "output_type": "stream",
     "text": [
      "[1, 6, 3, 5, 4, 8, 7, 2, 0]\n"
     ]
    }
   ],
   "source": [
    "#------------------------------------ Create label column ------------------------------------#\n",
    "\n",
    "# Step 1: \n",
    "df = df.withColumn('label_tmp', col('problemreported')) \n",
    "\n",
    "# Step 2:\n",
    "wSpec = Window.partitionBy('deviceid').orderBy(df.date.desc())\n",
    "lag_window = 7  # Define how many days in advance we want to predict failure\n",
    "\n",
    "for i in range(lag_window):\n",
    "    lag_values = lag(df.label_tmp, default=0).over(wSpec)\n",
    "    df = df.withColumn('label_tmp', F.when((col('label_tmp')==1) | (lag_values==None) | (lag_values<1) | (lag_values>=(lag_window+1)), col('label_tmp')).otherwise(lag_values+1))\n",
    "\n",
    "# check the results\n",
    "print(df.select('label_tmp').distinct().rdd.map(lambda r: r[0]).collect()) \n",
    " "
   ]
  },
  {
   "cell_type": "code",
   "execution_count": 4,
   "metadata": {
    "collapsed": false,
    "scrolled": false
   },
   "outputs": [
    {
     "name": "stdout",
     "output_type": "stream",
     "text": [
      "+--------+--------------------+---------------+---------+-----+\n",
      "|deviceid|                date|problemreported|label_tmp|label|\n",
      "+--------+--------------------+---------------+---------+-----+\n",
      "|   N0001|2012-12-08 00:00:...|              0|        0|  0.0|\n",
      "|   N0001|2012-12-09 00:00:...|              0|        0|  0.0|\n",
      "|   N0001|2012-12-10 00:00:...|              0|        0|  0.0|\n",
      "|   N0001|2012-12-11 00:00:...|              0|        0|  0.0|\n",
      "|   N0001|2012-12-12 00:00:...|              0|        0|  0.0|\n",
      "|   N0001|2012-12-13 00:00:...|              0|        0|  0.0|\n",
      "|   N0001|2012-12-14 00:00:...|              0|        0|  0.0|\n",
      "|   N0001|2012-12-15 00:00:...|              0|        0|  0.0|\n",
      "|   N0001|2012-12-16 00:00:...|              0|        0|  0.0|\n",
      "|   N0001|2012-12-17 00:00:...|              0|        8|  1.0|\n",
      "|   N0001|2012-12-18 00:00:...|              0|        7|  1.0|\n",
      "|   N0001|2012-12-19 00:00:...|              0|        6|  1.0|\n",
      "|   N0001|2012-12-20 00:00:...|              0|        5|  1.0|\n",
      "|   N0001|2012-12-21 00:00:...|              0|        4|  1.0|\n",
      "|   N0001|2012-12-22 00:00:...|              0|        3|  1.0|\n",
      "|   N0001|2012-12-23 00:00:...|              0|        2|  1.0|\n",
      "|   N0001|2012-12-24 00:00:...|              1|        1|  1.0|\n",
      "|   N0001|2012-12-25 00:00:...|              0|        0|  0.0|\n",
      "|   N0001|2012-12-26 00:00:...|              0|        0|  0.0|\n",
      "|   N0001|2012-12-27 00:00:...|              0|        0|  0.0|\n",
      "+--------+--------------------+---------------+---------+-----+\n",
      "only showing top 20 rows\n",
      "\n"
     ]
    }
   ],
   "source": [
    "# Step 3:\n",
    "### please note that we need to make \"label\" column double instead of integer for the pyspark classification models \n",
    "df = df.withColumn('label', F.when(col('label_tmp') > 0, 1.0).otherwise(0.0))\n",
    "df.createOrReplaceTempView(\"df_view\") \n",
    " \n",
    "# Step 4:\n",
    "df.orderBy('deviceid', 'date').select('deviceid', 'date', 'problemreported', 'label_tmp', 'label').show(20) \n"
   ]
  },
  {
   "cell_type": "code",
   "execution_count": 5,
   "metadata": {
    "collapsed": false
   },
   "outputs": [
    {
     "name": "stdout",
     "output_type": "stream",
     "text": [
      "+-------+-------------------+\n",
      "|summary|              label|\n",
      "+-------+-------------------+\n",
      "|  count|            2085102|\n",
      "|   mean|0.01456187754843648|\n",
      "| stddev|0.11979080162007248|\n",
      "|    min|                0.0|\n",
      "|    max|                1.0|\n",
      "+-------+-------------------+\n",
      "\n"
     ]
    }
   ],
   "source": [
    "# Visualize the distribution of \"label\" column\n",
    "df.select('label').describe().show()\n"
   ]
  },
  {
   "cell_type": "markdown",
   "metadata": {},
   "source": [
    "## Feature Reduction\n",
    "-  There are not many packages for feature selection in PySpark 2.0.2.,so we decided to use PCA to reduce the demensionality.\n",
    "-  There are so many features especially rolling features, we need to perform feature selection to reduce the feature set size"
   ]
  },
  {
   "cell_type": "code",
   "execution_count": 6,
   "metadata": {
    "collapsed": false
   },
   "outputs": [
    {
     "data": {
      "text/plain": [
       "1150"
      ]
     },
     "execution_count": 6,
     "metadata": {},
     "output_type": "execute_result"
    }
   ],
   "source": [
    "## check the number of rolling features\n",
    "len([col_n for col_n in df.columns if '_rolling' in col_n])\n"
   ]
  },
  {
   "cell_type": "code",
   "execution_count": 7,
   "metadata": {
    "collapsed": false
   },
   "outputs": [
    {
     "name": "stdout",
     "output_type": "stream",
     "text": [
      "[0.0720783785227,0.0329825870736,0.027901485354,0.0243662075346,0.0231109612038,0.0230696286064,0.0175345239922,0.0169050432163,0.0160163382589,0.0151685106261,0.0139611893027,0.0132999118492,0.0128137208726,0.012460010309,0.0123226258655,0.0121766225655,0.0110137480593,0.0106161694018,0.0103270115698,0.00977105423534,0.00908164998253,0.00880547728788,0.00839688758961,0.00833527942731,0.00816512952224,0.00807362710216,0.00787447043078,0.00782728526041,0.00776590544977,0.00753956685426,0.00735611311084,0.00717316781783,0.00710561994143,0.00694768452248,0.0068423949855,0.00669806943767,0.00660469671941,0.00658491264526,0.00646747772504,0.00638036477672,0.00630822833773,0.00628238685298,0.00608372864476,0.00606093314036,0.00604486211127,0.00599575013941,0.00591032102729,0.0057055133175,0.00568659059503,0.00551330593664]\n",
      "+--------------------+--------------------+\n",
      "|                 key|   pca_roll_features|\n",
      "+--------------------+--------------------+\n",
      "|N0001_2012-12-08 ...|[0.0,0.0,0.0,0.0,...|\n",
      "|N0001_2012-12-09 ...|[0.0,0.0,0.0,0.0,...|\n",
      "|N0001_2012-12-10 ...|[0.0,0.0,0.0,0.0,...|\n",
      "|N0001_2012-12-11 ...|[0.0,0.0,0.0,0.0,...|\n",
      "|N0001_2012-12-12 ...|[0.0,0.0,0.0,0.0,...|\n",
      "+--------------------+--------------------+\n",
      "only showing top 5 rows\n",
      "\n"
     ]
    }
   ],
   "source": [
    "# Step 1\n",
    "# Use RFormula to create the feature vector\n",
    "rolling_features = list(s for s in df.columns if \"_rolling\" in s)\n",
    "formula = RFormula(formula = \"~\" + \"+\".join(rolling_features))\n",
    "output = formula.fit(df).transform(df).select(\"key\",\"features\") \n",
    "\n",
    "\n",
    "# Step 2 \n",
    "# Before PCA, we need to standardize the features, it is very important...\n",
    "# We compared 1) standardization, 2) min-max normalization, 3) combintion of standardization and min-max normalization\n",
    "# In 2), the 1st PC explained more than 67% of the variance\n",
    "# 1) & 3) generate exactly the same results for model.explainedVariance. \n",
    "# That means min-max normalization does not help in our case\n",
    "\n",
    "scaler = StandardScaler(inputCol=\"features\", outputCol=\"scaledFeatures\",\n",
    "                        withStd=True, withMean=False)\n",
    "\n",
    "# Compute summary statistics by fitting the StandardScaler\n",
    "scalerModel = scaler.fit(output)\n",
    "\n",
    "# Normalize each feature to have unit standard deviation.\n",
    "scaledData = scalerModel.transform(output)\n",
    "\n",
    "\n",
    "# Step 3\n",
    "pca = PCA(k=50, inputCol=\"scaledFeatures\", outputCol=\"pca_roll_features\")\n",
    "model = pca.fit(scaledData)\n",
    "result = model.transform(scaledData).select(\"key\",\"pca_roll_features\")\n",
    "print(model.explainedVariance)\n",
    "\n",
    "\n",
    "# Step 4\n",
    "df = df.join(result, 'key', 'inner')\n",
    "rolling_drop_list = [col_n for col_n in df.columns if '_rolling' in col_n]\n",
    "df = df.select([column for column in df.columns if column not in rolling_drop_list])\n",
    "\n",
    "df.select('key','pca_roll_features').show(5)\n"
   ]
  },
  {
   "cell_type": "markdown",
   "metadata": {},
   "source": [
    "# Prepare train and test data"
   ]
  },
  {
   "cell_type": "code",
   "execution_count": 8,
   "metadata": {
    "collapsed": true
   },
   "outputs": [],
   "source": [
    "# Define list of input columns for downstream modeling\n",
    "input_features = [\n",
    " 'usage_count_1',\n",
    " 'usage_count_2',\n",
    " 'problem_type_1',\n",
    " 'problem_type_2',\n",
    " 'problem_type_3',\n",
    " 'problem_type_4',\n",
    " 'error_count_1',\n",
    " 'error_count_2',\n",
    " 'error_count_3',\n",
    " 'error_count_4',\n",
    " 'error_count_5',\n",
    " 'error_count_6',\n",
    " 'error_count_7',\n",
    " 'error_count_8',\n",
    " 'month',\n",
    " 'weekofyear',\n",
    " 'dayofmonth',\n",
    " 'warn_type1_total',\n",
    " 'warn_type2_total',\n",
    " 'fault_code_type_1_count',\n",
    " 'fault_code_type_2_count',\n",
    " 'fault_code_type_3_count',\n",
    " 'fault_code_type_4_count',\n",
    " 'problem_type_1_per_usage1',\n",
    " 'problem_type_2_per_usage1',\n",
    " 'problem_type_3_per_usage1',\n",
    " 'problem_type_4_per_usage1',\n",
    " 'fault_code_type_1_count_per_usage1',\n",
    " 'fault_code_type_2_count_per_usage1',\n",
    " 'fault_code_type_3_count_per_usage1',\n",
    " 'fault_code_type_4_count_per_usage1',\n",
    " 'problem_type_1_per_usage2',\n",
    " 'problem_type_2_per_usage2',\n",
    " 'problem_type_3_per_usage2',\n",
    " 'problem_type_4_per_usage2',\n",
    " 'fault_code_type_1_count_per_usage2',\n",
    " 'fault_code_type_2_count_per_usage2',\n",
    " 'fault_code_type_3_count_per_usage2',\n",
    " 'fault_code_type_4_count_per_usage2',   \n",
    " 'problem_type_1_category_encoded',\n",
    " 'problem_type_2_category_encoded',\n",
    " 'problem_type_3_category_encoded',\n",
    " 'problem_type_4_category_encoded',\n",
    " 'problem_type_1_per_usage1_category_encoded',\n",
    " 'problem_type_2_per_usage1_category_encoded',\n",
    " 'problem_type_3_per_usage1_category_encoded',\n",
    " 'problem_type_4_per_usage1_category_encoded',\n",
    " 'problem_type_1_per_usage2_category_encoded',\n",
    " 'problem_type_2_per_usage2_category_encoded',\n",
    " 'problem_type_3_per_usage2_category_encoded',\n",
    " 'problem_type_4_per_usage2_category_encoded',\n",
    " 'fault_code_type_1_count_category_encoded',\n",
    " 'fault_code_type_2_count_category_encoded',\n",
    " 'fault_code_type_3_count_category_encoded',\n",
    " 'fault_code_type_4_count_category_encoded',\n",
    " 'fault_code_type_1_count_per_usage1_category_encoded',\n",
    " 'fault_code_type_2_count_per_usage1_category_encoded',\n",
    " 'fault_code_type_3_count_per_usage1_category_encoded',\n",
    " 'fault_code_type_4_count_per_usage1_category_encoded',\n",
    " 'fault_code_type_1_count_per_usage2_category_encoded',\n",
    " 'fault_code_type_2_count_per_usage2_category_encoded',\n",
    " 'fault_code_type_3_count_per_usage2_category_encoded',\n",
    " 'fault_code_type_4_count_per_usage2_category_encoded',\n",
    " 'cat1_encoded',\n",
    " 'cat2_encoded',\n",
    " 'cat3_encoded',\n",
    " 'cat4_encoded',     \n",
    " 'pca_1_warn',\n",
    " 'pca_2_warn',\n",
    " 'pca_3_warn',\n",
    " 'pca_4_warn',\n",
    " 'pca_5_warn',\n",
    " 'pca_6_warn',\n",
    " 'pca_7_warn',\n",
    " 'pca_8_warn',\n",
    " 'pca_9_warn',\n",
    " 'pca_10_warn',\n",
    " 'pca_11_warn',\n",
    " 'pca_12_warn',\n",
    " 'pca_13_warn',\n",
    " 'pca_14_warn',\n",
    " 'pca_15_warn',\n",
    " 'pca_16_warn',\n",
    " 'pca_17_warn',\n",
    " 'pca_18_warn',\n",
    " 'pca_19_warn',\n",
    " 'pca_20_warn',\n",
    " 'pca_roll_features'\n",
    "]\n",
    "\n",
    "label_var = ['label']\n",
    "key_cols =['key','deviceid','date']\n"
   ]
  },
  {
   "cell_type": "code",
   "execution_count": 9,
   "metadata": {
    "collapsed": false,
    "scrolled": false
   },
   "outputs": [],
   "source": [
    "# Assemble features\n",
    "va = VectorAssembler(inputCols=(input_features), outputCol='features')\n",
    "df = va.transform(df).select('deviceid','date','label','features')\n"
   ]
  },
  {
   "cell_type": "code",
   "execution_count": 10,
   "metadata": {
    "collapsed": true
   },
   "outputs": [],
   "source": [
    "# Set maxCategories so features with > 10 distinct values are treated as continuous.\n",
    "featureIndexer = VectorIndexer(inputCol=\"features\", \n",
    "                               outputCol=\"indexedFeatures\", \n",
    "                               maxCategories=10).fit(df)\n",
    "    "
   ]
  },
  {
   "cell_type": "markdown",
   "metadata": {},
   "source": [
    "### Remember to do “StringIndexer” on the label column, fit on the entire dataset to include all labels in index. Also, the label column has to be Double instead of Integer type.  "
   ]
  },
  {
   "cell_type": "code",
   "execution_count": 11,
   "metadata": {
    "collapsed": true
   },
   "outputs": [],
   "source": [
    "# Fit on whole dataset to include all labels in index.\n",
    "labelIndexer = StringIndexer(inputCol=\"label\", outputCol=\"indexedLabel\").fit(df)\n"
   ]
  },
  {
   "cell_type": "markdown",
   "metadata": {},
   "source": [
    "### Prepare train and test dataset using time split method \n",
    "-  training data: year 2012-2014\n",
    "-  testing data: year 2015"
   ]
  },
  {
   "cell_type": "code",
   "execution_count": 12,
   "metadata": {
    "collapsed": false
   },
   "outputs": [
    {
     "name": "stdout",
     "output_type": "stream",
     "text": [
      "1431846\n",
      "655155\n"
     ]
    }
   ],
   "source": [
    "training = df.filter(df.date > \"2011-12-31\").filter(df.date < \"2015-01-01\")\n",
    "testing = df.filter(df.date > \"2014-12-31\")\n",
    "\n",
    "print(training.count())\n",
    "print(testing.count())\n"
   ]
  },
  {
   "cell_type": "code",
   "execution_count": 13,
   "metadata": {
    "collapsed": false,
    "scrolled": true
   },
   "outputs": [
    {
     "name": "stdout",
     "output_type": "stream",
     "text": [
      "+-----+-------+\n",
      "|label|  count|\n",
      "+-----+-------+\n",
      "|  0.0|2054739|\n",
      "|  1.0|  30363|\n",
      "+-----+-------+\n",
      "\n"
     ]
    }
   ],
   "source": [
    "## show the distribution of label \"0\" and \"1\"\n",
    "df.groupby('label').count().show()\n"
   ]
  },
  {
   "cell_type": "markdown",
   "metadata": {},
   "source": [
    "### Down-Sample Negative examples:\n",
    "-  This is a ***highly umbalanced data*** with way more label \"0\" than \"1\" (\"1\" only accounts for 1.5%).\n",
    "-  So we need to down sample the negatives while keeping all positive samples.\n",
    "-  To make label \"1\" to \"0\" ratio close to 1:10 (you can use other ratio for example 1:5), we need to down-sample the \"0\"s (take 13.5% of all the label \"0\"s)"
   ]
  },
  {
   "cell_type": "code",
   "execution_count": 14,
   "metadata": {
    "collapsed": false
   },
   "outputs": [
    {
     "name": "stdout",
     "output_type": "stream",
     "text": [
      "+-----+------+\n",
      "|label| count|\n",
      "+-----+------+\n",
      "|  0.0|190823|\n",
      "|  1.0| 20777|\n",
      "+-----+------+\n",
      "\n",
      "+-----+------+\n",
      "|label| count|\n",
      "+-----+------+\n",
      "|  0.0|645547|\n",
      "|  1.0|  9608|\n",
      "+-----+------+\n",
      "\n"
     ]
    }
   ],
   "source": [
    "# SampleBy returns a stratified sample without replacement based on the fraction given on each stratum\n",
    "train_downsampled = training.sampleBy('label', fractions={0.0: 0.135, 1.0: 1.0}, seed=123).cache()\n",
    "train_downsampled.groupby('label').count().show()\n",
    "\n",
    "testing.groupby('label').count().show()\n"
   ]
  },
  {
   "cell_type": "markdown",
   "metadata": {},
   "source": [
    "### Cache results \n",
    "\n",
    "Do it when necessary especially if your downstream work (e.g. recursive modeling) use that data over and over again. Here in our case, after the train and test datasets are prepared, we cache them in memory. "
   ]
  },
  {
   "cell_type": "code",
   "execution_count": 15,
   "metadata": {
    "collapsed": false
   },
   "outputs": [
    {
     "name": "stdout",
     "output_type": "stream",
     "text": [
      "1899\n",
      "1899\n"
     ]
    }
   ],
   "source": [
    "# cache datasets in memory\n",
    "train_downsampled.cache()\n",
    "testing.cache()\n",
    "\n",
    "# check the number of devices in training and testing data\n",
    "print(train_downsampled.select('deviceid').distinct().count())\n",
    "print(testing.select('deviceid').distinct().count())\n"
   ]
  },
  {
   "cell_type": "code",
   "execution_count": 16,
   "metadata": {
    "collapsed": true
   },
   "outputs": [],
   "source": [
    "# Set model storage directory path. This is where models will be saved.\n",
    "modelDir = \"/mnt/resource/PysparkExample/Outputs/\"; "
   ]
  },
  {
   "cell_type": "markdown",
   "metadata": {},
   "source": [
    "## Binary Classification Models:\n",
    "-  Random Forest classifier\n",
    "-  Gradient-Boosted Tree"
   ]
  },
  {
   "cell_type": "markdown",
   "metadata": {},
   "source": [
    "### Random Forest classifier"
   ]
  },
  {
   "cell_type": "code",
   "execution_count": 17,
   "metadata": {
    "collapsed": false
   },
   "outputs": [
    {
     "name": "stdout",
     "output_type": "stream",
     "text": [
      "+------------+----------+------+\n",
      "|indexedLabel|prediction| count|\n",
      "+------------+----------+------+\n",
      "|         1.0|       1.0|   478|\n",
      "|         0.0|       1.0|  1746|\n",
      "|         1.0|       0.0|  9130|\n",
      "|         0.0|       0.0|643801|\n",
      "+------------+----------+------+\n",
      "\n",
      "CPU times: user 20.5 ms, sys: 13.6 ms, total: 34.1 ms\n",
      "Wall time: 28.8 s\n"
     ]
    }
   ],
   "source": [
    "%%time\n",
    "\n",
    "# Train a RandomForest model.\n",
    "rf = RandomForestClassifier(labelCol=\"indexedLabel\", featuresCol=\"indexedFeatures\", numTrees=100)\n",
    "\n",
    "# Chain indexers and forest in a Pipeline\n",
    "pipeline_rf = Pipeline(stages=[labelIndexer, featureIndexer, rf])\n",
    "\n",
    "# Train model.  This also runs the indexers.\n",
    "model_rf = pipeline_rf.fit(train_downsampled)\n",
    "\n",
    "# Save model\n",
    "datestamp = unicode(datetime.datetime.now()).replace(' ','').replace(':','_');\n",
    "rf_fileName = \"RandomForest_\" + datestamp;\n",
    "rfDirfilename = modelDir + rf_fileName;\n",
    "model_rf.save(rfDirfilename)\n",
    "\n",
    "# Make predictions.\n",
    "predictions_rf = model_rf.transform(testing)\n",
    "predictions_rf.groupby('indexedLabel', 'prediction').count().show()\n"
   ]
  },
  {
   "cell_type": "code",
   "execution_count": 18,
   "metadata": {
    "collapsed": false
   },
   "outputs": [
    {
     "data": {
      "text/plain": [
       "[('deviceid', 'string'),\n",
       " ('date', 'timestamp'),\n",
       " ('label', 'double'),\n",
       " ('features', 'vector'),\n",
       " ('indexedLabel', 'double'),\n",
       " ('indexedFeatures', 'vector'),\n",
       " ('rawPrediction', 'vector'),\n",
       " ('probability', 'vector'),\n",
       " ('prediction', 'double')]"
      ]
     },
     "execution_count": 18,
     "metadata": {},
     "output_type": "execute_result"
    }
   ],
   "source": [
    "predictions_rf.dtypes"
   ]
  },
  {
   "cell_type": "code",
   "execution_count": 19,
   "metadata": {
    "collapsed": false
   },
   "outputs": [
    {
     "name": "stdout",
     "output_type": "stream",
     "text": [
      "Area under ROC = 0.600472\n",
      "Area under PR = 0.133672\n",
      "\n",
      "Accuracy = 0.983399\n",
      "Weighted Precision = 0.974709\n",
      "Weighted Recall = 0.983399\n",
      "F1 = 0.978267\n"
     ]
    },
    {
     "data": {
      "image/png": "[encoded data removed]",
      "text/plain": [
       "<matplotlib.figure.Figure at 0x7f9c931b7ed0>"
      ]
     },
     "metadata": {},
     "output_type": "display_data"
    },
    {
     "name": "stdout",
     "output_type": "stream",
     "text": [
      "CPU times: user 1min 22s, sys: 786 ms, total: 1min 23s\n",
      "Wall time: 2min 14s\n"
     ]
    }
   ],
   "source": [
    "%%time\n",
    "\n",
    "predictionAndLabels = predictions_rf.select(\"indexedLabel\", \"prediction\").rdd\n",
    "metrics = BinaryClassificationMetrics(predictionAndLabels)\n",
    "print(\"Area under ROC = %g\" % metrics.areaUnderROC)\n",
    "print(\"Area under PR = %g\\n\" % metrics.areaUnderPR)\n",
    "\n",
    "# Select (prediction, true label) and compute test error\n",
    "evaluator = MulticlassClassificationEvaluator(labelCol=\"indexedLabel\", predictionCol=\"prediction\")\n",
    "print(\"Accuracy = %g\" % evaluator.evaluate(predictions_rf, {evaluator.metricName: \"accuracy\"}))\n",
    "print(\"Weighted Precision = %g\" % evaluator.evaluate(predictions_rf, {evaluator.metricName: \"weightedPrecision\"}))\n",
    "print(\"Weighted Recall = %g\" % evaluator.evaluate(predictions_rf, {evaluator.metricName: \"weightedRecall\"}))\n",
    "print(\"F1 = %g\" % evaluator.evaluate(predictions_rf, {evaluator.metricName: \"f1\"}))\n",
    "\n",
    "# PLOT ROC curve after converting predictions to a Pandas dataframe\n",
    "%matplotlib inline\n",
    "predictions_rf_pddf = predictions_rf.select('indexedLabel','probability').toPandas()\n",
    "labels = predictions_rf_pddf[\"indexedLabel\"]\n",
    "prob = []\n",
    "for dv in predictions_rf_pddf[\"probability\"]:\n",
    "    prob.append(dv.values[1])\n",
    "     \n",
    "fpr, tpr, thresholds = roc_curve(labels, prob, pos_label=1.0);\n",
    "roc_auc = auc(fpr, tpr)\n",
    "\n",
    "plt.figure(figsize=(5, 5))\n",
    "plt.plot(fpr, tpr, label='ROC curve (area = %0.2f)' % roc_auc)\n",
    "plt.plot([0, 1], [0, 1], 'k--')\n",
    "plt.xlim([0.0, 1.0])\n",
    "plt.ylim([0.0, 1.05])\n",
    "plt.xlabel('False Positive Rate')\n",
    "plt.ylabel('True Positive Rate')\n",
    "plt.title('ROC Curve')\n",
    "plt.legend(loc=\"lower right\")\n",
    "plt.show()\n"
   ]
  },
  {
   "cell_type": "markdown",
   "metadata": {},
   "source": [
    "#### Pyspark MulticlassClassificationEvaluator in version 2.0.2 only gives weighted precision and recall. But we would also like to see the raw precision and recall as well."
   ]
  },
  {
   "cell_type": "code",
   "execution_count": 20,
   "metadata": {
    "collapsed": false
   },
   "outputs": [
    {
     "name": "stdout",
     "output_type": "stream",
     "text": [
      "precision: [ 0.9860169   0.21492806]\n",
      "recall: [ 0.99729532  0.04975021]\n",
      "fscore: [ 0.99162404  0.08079784]\n",
      "support: [645547   9608]\n"
     ]
    }
   ],
   "source": [
    "# Use sklearn\n",
    "rf_result = predictions_rf.select('indexedLabel', 'prediction').toPandas()\n",
    "\n",
    "rf_label = rf_result['indexedLabel'].tolist()\n",
    "rf_prediction = rf_result['prediction'].tolist()\n",
    "\n",
    "precision, recall, fscore, support = score(rf_label, rf_prediction)\n",
    "\n",
    "print('precision: {}'.format(precision))\n",
    "print('recall: {}'.format(recall))\n",
    "print('fscore: {}'.format(fscore))\n",
    "print('support: {}'.format(support))\n"
   ]
  },
  {
   "cell_type": "markdown",
   "metadata": {},
   "source": [
    "### Gradient-Boosted Tree classifier"
   ]
  },
  {
   "cell_type": "code",
   "execution_count": 21,
   "metadata": {
    "collapsed": false
   },
   "outputs": [
    {
     "name": "stdout",
     "output_type": "stream",
     "text": [
      "CPU times: user 127 ms, sys: 13.1 ms, total: 140 ms\n",
      "Wall time: 12min 9s\n"
     ]
    }
   ],
   "source": [
    "%%time\n",
    "\n",
    "# Train a GBT model.\n",
    "gbt = GBTClassifier(labelCol=\"indexedLabel\", featuresCol=\"indexedFeatures\", maxDepth=10, minInstancesPerNode=5, maxIter=50)\n",
    "\n",
    "# Chain indexers and GBT in a Pipeline\n",
    "pipeline_gbt = Pipeline(stages=[labelIndexer, featureIndexer, gbt])\n",
    "\n",
    "# Train model.  This also runs the indexers.\n",
    "model_gbt = pipeline_gbt.fit(train_downsampled)\n",
    "\n",
    "# save model\n",
    "datestamp = unicode(datetime.datetime.now()).replace(' ','').replace(':','_');\n",
    "gbt_fileName = \"GradientBoostedTree_\" + datestamp;\n",
    "gbtDirfilename = modelDir + gbt_fileName;\n",
    "model_gbt.save(gbtDirfilename)\n",
    "\n",
    "# Make predictions.\n",
    "predictions_gbt = model_gbt.transform(testing)\n"
   ]
  },
  {
   "cell_type": "code",
   "execution_count": 22,
   "metadata": {
    "collapsed": false
   },
   "outputs": [
    {
     "name": "stdout",
     "output_type": "stream",
     "text": [
      "+------------+----------+------+\n",
      "|indexedLabel|prediction| count|\n",
      "+------------+----------+------+\n",
      "|         1.0|       1.0|   831|\n",
      "|         0.0|       1.0|  6332|\n",
      "|         1.0|       0.0|  8777|\n",
      "|         0.0|       0.0|639215|\n",
      "+------------+----------+------+\n",
      "\n"
     ]
    }
   ],
   "source": [
    "# show prediction results\n",
    "predictions_gbt.groupby('indexedLabel', 'prediction').count().show()\n"
   ]
  },
  {
   "cell_type": "code",
   "execution_count": 23,
   "metadata": {
    "collapsed": false
   },
   "outputs": [
    {
     "name": "stdout",
     "output_type": "stream",
     "text": [
      "Area under ROC = 0.551234\n",
      "Area under PR = 0.106084\n",
      "\n",
      "Accuracy = 0.976938\n",
      "Weighted Precision = 0.97369\n",
      "Weighted Recall = 0.976938\n",
      "F1 = 0.975279\n",
      "CPU times: user 54.4 ms, sys: 20.3 ms, total: 74.7 ms\n",
      "Wall time: 40.6 s\n"
     ]
    }
   ],
   "source": [
    "%%time\n",
    "\n",
    "predictionAndLabels = predictions_gbt.select(\"indexedLabel\", \"prediction\").rdd\n",
    "metrics = BinaryClassificationMetrics(predictionAndLabels)\n",
    "print(\"Area under ROC = %g\" % metrics.areaUnderROC)\n",
    "print(\"Area under PR = %g\\n\" % metrics.areaUnderPR)\n",
    "\n",
    "# Select (prediction, true label) and compute test error\n",
    "evaluator = MulticlassClassificationEvaluator(labelCol=\"indexedLabel\", predictionCol=\"prediction\")\n",
    "print(\"Accuracy = %g\" % evaluator.evaluate(predictions_gbt, {evaluator.metricName: \"accuracy\"}))\n",
    "print(\"Weighted Precision = %g\" % evaluator.evaluate(predictions_gbt, {evaluator.metricName: \"weightedPrecision\"}))\n",
    "print(\"Weighted Recall = %g\" % evaluator.evaluate(predictions_gbt, {evaluator.metricName: \"weightedRecall\"}))\n",
    "print(\"F1 = %g\" % evaluator.evaluate(predictions_gbt, {evaluator.metricName: \"f1\"}))\n"
   ]
  },
  {
   "cell_type": "code",
   "execution_count": 24,
   "metadata": {
    "collapsed": false
   },
   "outputs": [
    {
     "name": "stdout",
     "output_type": "stream",
     "text": [
      "precision: [ 0.98645508  0.11601284]\n",
      "recall: [ 0.99019126  0.08649042]\n",
      "fscore: [ 0.98831964  0.09909964]\n",
      "support: [645547   9608]\n"
     ]
    }
   ],
   "source": [
    "# Use sklearn to calculate the raw precision and recall\n",
    "\n",
    "gbt_result = predictions_gbt.select('indexedLabel', 'prediction').toPandas()\n",
    "\n",
    "gbt_label = gbt_result['indexedLabel'].tolist()\n",
    "gbt_prediction = gbt_result['prediction'].tolist()\n",
    "\n",
    "precision, recall, fscore, support = score(gbt_label, gbt_prediction)\n",
    "\n",
    "print('precision: {}'.format(precision))\n",
    "print('recall: {}'.format(recall))\n",
    "print('fscore: {}'.format(fscore))\n",
    "print('support: {}'.format(support))\n"
   ]
  },
  {
   "cell_type": "markdown",
   "metadata": {},
   "source": [
    "### Comparing results from Random Forest and Gradient Boosted Tree:\n",
    "-  Gradient Boosted Tree gives better recall but worse precision compared with Random Forest. For most of the predictive maintenance use cases, the business cost associated with false positives is usually expensive. There is always a trade-off between precision and recall. We want to achieve higher precision rate (fewer false positives) even though that might compromise the recall rate.\n",
    "-  That is why we decided to go with Random Forest model and further optimized it with hyper-parametre tuning."
   ]
  },
  {
   "cell_type": "markdown",
   "metadata": {},
   "source": [
    "## Hyper-Parameter Tuning & Cross Validation\n",
    "\n",
    "Train a random forest classification model using hyper-parameter tuning and cross-validation"
   ]
  },
  {
   "cell_type": "code",
   "execution_count": 25,
   "metadata": {
    "collapsed": false,
    "scrolled": true
   },
   "outputs": [
    {
     "name": "stdout",
     "output_type": "stream",
     "text": [
      "weightedPrecision on test data = 0.97472\n",
      "CPU times: user 3.4 s, sys: 1.8 s, total: 5.2 s\n",
      "Wall time: 54min 1s\n"
     ]
    }
   ],
   "source": [
    "%%time\n",
    "\n",
    "# Train a RandomForest model.\n",
    "rf = RandomForestClassifier(labelCol=\"indexedLabel\", featuresCol=\"indexedFeatures\", \n",
    "                            featureSubsetStrategy=\"auto\", impurity=\"gini\", seed=123)\n",
    "\n",
    "# Chain indexers and forest in a Pipeline\n",
    "pipeline_rf = Pipeline(stages=[labelIndexer, featureIndexer, rf])\n",
    "\n",
    "\n",
    "## Define parameter grid\n",
    "paramGrid = ParamGridBuilder() \\\n",
    "    .addGrid(rf.numTrees, [20, 50, 100]) \\\n",
    "    .addGrid(rf.maxBins, [10, 20]) \\\n",
    "    .addGrid(rf.maxDepth, [3, 5, 7]) \\\n",
    "    .addGrid(rf.minInstancesPerNode, [1, 5, 10]) \\\n",
    "    .build()\n",
    "\n",
    "## Define cross-validation\n",
    "crossval = CrossValidator(estimator=pipeline_rf,\n",
    "                          estimatorParamMaps=paramGrid,\n",
    "                          evaluator=MulticlassClassificationEvaluator(metricName=\"weightedPrecision\"),\n",
    "                          numFolds=3)\n",
    "\n",
    "## Train model using CV\n",
    "cvModel = crossval.fit(train_downsampled)\n",
    "\n",
    "## Predict and evaluate\n",
    "predictions = cvModel.transform(testing)\n",
    "evaluator = MulticlassClassificationEvaluator(labelCol=\"indexedLabel\", predictionCol=\"prediction\", metricName=\"weightedPrecision\")\n",
    "r2 = evaluator.evaluate(predictions)\n",
    "print(\"weightedPrecision on test data = %g\" % r2)\n",
    "\n",
    "## Save the best model\n",
    "fileName = \"CV_RandomForestClassificationModel_\" + datestamp;\n",
    "CVDirfilename = modelDir + fileName;\n",
    "cvModel.bestModel.save(CVDirfilename);\n"
   ]
  },
  {
   "cell_type": "markdown",
   "metadata": {},
   "source": [
    "#### Hyper-parameter tuning only improved the model performance a little bit. We will then use that model for future scoring."
   ]
  }
 ],
 "metadata": {
  "kernelspec": {
   "display_name": "Spark - python",
   "language": "python",
   "name": "spark-python"
  },
  "language_info": {
   "codemirror_mode": {
    "name": "ipython",
    "version": 2
   },
   "file_extension": ".py",
   "mimetype": "text/x-python",
   "name": "python",
   "nbconvert_exporter": "python",
   "pygments_lexer": "ipython2",
   "version": "2.7.13"
  }
 },
 "nbformat": 4,
 "nbformat_minor": 2
}
